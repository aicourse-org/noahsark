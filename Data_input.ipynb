{
  "nbformat": 4,
  "nbformat_minor": 0,
  "metadata": {
    "celltoolbar": "Raw Cell Format",
    "colab": {
      "name": "Data_input.ipynb",
      "provenance": [],
      "collapsed_sections": []
    },
    "kernelspec": {
      "display_name": "Python 3",
      "language": "python",
      "name": "python3"
    },
    "language_info": {
      "codemirror_mode": {
        "name": "ipython",
        "version": 3
      },
      "file_extension": ".py",
      "mimetype": "text/x-python",
      "name": "python",
      "nbconvert_exporter": "python",
      "pygments_lexer": "ipython3",
      "version": "3.8.5"
    }
  },
  "cells": [
    {
      "cell_type": "markdown",
      "metadata": {
        "id": "hBXlkB4I2O3i"
      },
      "source": [
        "現在我們終於進入了數據處理的第一章。我們將使用鐵達尼號數據，這章我們先觀察與分析其結構與分布，初步了解數據分布。這是做好分析數據的必要一環，我們開始吧！"
      ]
    },
    {
      "cell_type": "markdown",
      "metadata": {
        "id": "QaXwiSZXDJ7C"
      },
      "source": [
        "## .read_csv "
      ]
    },
    {
      "cell_type": "markdown",
      "metadata": {
        "id": "BqjnsG655pzO"
      },
      "source": [
        "首先，我們導入 <code>pandas</code> 並從 GitHub(https://raw.githubusercontent.com/aicourse-org/dataset/main/titanic/titanic.csv) 擷取鐵達尼號數據。 輸入數據。"
      ]
    },
    {
      "cell_type": "markdown",
      "metadata": {
        "id": "LZJGG6Hm1I9X"
      },
      "source": [
        "<code>.read_csv</code> 是一個 <code>pandas</code> 的方法，它將 csv 轉成一個 <code>DataFrame</code> 格式。我們使用它並將數據取名為：<code>df</code>。"
      ]
    },
    {
      "cell_type": "code",
      "metadata": {
        "colab": {
          "base_uri": "https://localhost:8080/"
        },
        "id": "OO8kluRWbKOO",
        "outputId": "52372edc-789f-4084-9779-78648e06a65e"
      },
      "source": [
        "import pandas as pd\n",
        "\n",
        "csv_url = 'https://raw.githubusercontent.com/aicourse-org/dataset/main/titanic/titanic.csv'\n",
        "\n",
        "df = pd.read_csv(csv_url)\n",
        "print(df)"
      ],
      "execution_count": null,
      "outputs": [
        {
          "output_type": "stream",
          "text": [
            "     survived  pclass                                               name  \\\n",
            "0           0       3                            Braund, Mr. Owen Harris   \n",
            "1           1       1  Cumings, Mrs. John Bradley (Florence Briggs Th...   \n",
            "2           1       3                             Heikkinen, Miss. Laina   \n",
            "3           1       1       Futrelle, Mrs. Jacques Heath (Lily May Peel)   \n",
            "4           0       3                           Allen, Mr. William Henry   \n",
            "..        ...     ...                                                ...   \n",
            "886         0       2                              Montvila, Rev. Juozas   \n",
            "887         1       1                       Graham, Miss. Margaret Edith   \n",
            "888         0       3           Johnston, Miss. Catherine Helen \"Carrie\"   \n",
            "889         1       1                              Behr, Mr. Karl Howell   \n",
            "890         0       3                                Dooley, Mr. Patrick   \n",
            "\n",
            "        sex   age  sibsp  parch            ticket     fare cabin embarked  \n",
            "0      male  22.0      1      0         A/5 21171   7.2500   NaN        S  \n",
            "1    female  38.0      1      0          PC 17599  71.2833   C85        C  \n",
            "2    female  26.0      0      0  STON/O2. 3101282   7.9250   NaN        S  \n",
            "3    female  35.0      1      0            113803  53.1000  C123        S  \n",
            "4      male  35.0      0      0            373450   8.0500   NaN        S  \n",
            "..      ...   ...    ...    ...               ...      ...   ...      ...  \n",
            "886    male  27.0      0      0            211536  13.0000   NaN        S  \n",
            "887  female  19.0      0      0            112053  30.0000   B42        S  \n",
            "888  female   NaN      1      2        W./C. 6607  23.4500   NaN        S  \n",
            "889    male  26.0      0      0            111369  30.0000  C148        C  \n",
            "890    male  32.0      0      0            370376   7.7500   NaN        Q  \n",
            "\n",
            "[891 rows x 11 columns]\n"
          ],
          "name": "stdout"
        }
      ]
    },
    {
      "cell_type": "markdown",
      "metadata": {
        "id": "cOPCtQ8hDJ7E"
      },
      "source": [
        "以下是這個鐵達尼號的數據解釋："
      ]
    },
    {
      "cell_type": "markdown",
      "metadata": {
        "id": "MJKdBCdxDJ7E"
      },
      "source": [
        "* survival:\t存活\t0 = 未存活、 1 = 存活\n",
        "* pclass: 船艙等級\t1 = 頭等、 2 = 2級、 3 = 3級\n",
        "* sex: 性別\t\n",
        "* Age: 年紀\t\n",
        "* sibsp: 兄弟姐妹/配偶數目\n",
        "* parch: 父母/孩子數目\n",
        "* ticket: 票號\t\n",
        "* fare:\t票價\t\n",
        "* cabin: 船艙號碼\n",
        "* embarked: 上船港口"
      ]
    },
    {
      "cell_type": "markdown",
      "metadata": {
        "id": "kGmNnqbKDJ7E"
      },
      "source": [
        "## .head()"
      ]
    },
    {
      "cell_type": "markdown",
      "metadata": {
        "id": "p8FdYQSs4FvT"
      },
      "source": [
        "部分 <code>df</code> 訊息被 <code>...</code> 取代。下面我們用 <code>.head()</code> 方法輸出最前面的五個行的數據。"
      ]
    },
    {
      "cell_type": "code",
      "metadata": {
        "colab": {
          "base_uri": "https://localhost:8080/",
          "height": 204
        },
        "id": "R27yNqV37ap3",
        "outputId": "bf3609d5-63f0-4847-94aa-6aa30aa78b9d"
      },
      "source": [
        "df.head()"
      ],
      "execution_count": null,
      "outputs": [
        {
          "output_type": "execute_result",
          "data": {
            "text/html": [
              "<div>\n",
              "<style scoped>\n",
              "    .dataframe tbody tr th:only-of-type {\n",
              "        vertical-align: middle;\n",
              "    }\n",
              "\n",
              "    .dataframe tbody tr th {\n",
              "        vertical-align: top;\n",
              "    }\n",
              "\n",
              "    .dataframe thead th {\n",
              "        text-align: right;\n",
              "    }\n",
              "</style>\n",
              "<table border=\"1\" class=\"dataframe\">\n",
              "  <thead>\n",
              "    <tr style=\"text-align: right;\">\n",
              "      <th></th>\n",
              "      <th>survived</th>\n",
              "      <th>pclass</th>\n",
              "      <th>name</th>\n",
              "      <th>sex</th>\n",
              "      <th>age</th>\n",
              "      <th>sibsp</th>\n",
              "      <th>parch</th>\n",
              "      <th>ticket</th>\n",
              "      <th>fare</th>\n",
              "      <th>cabin</th>\n",
              "      <th>embarked</th>\n",
              "    </tr>\n",
              "  </thead>\n",
              "  <tbody>\n",
              "    <tr>\n",
              "      <th>0</th>\n",
              "      <td>0</td>\n",
              "      <td>3</td>\n",
              "      <td>Braund, Mr. Owen Harris</td>\n",
              "      <td>male</td>\n",
              "      <td>22.0</td>\n",
              "      <td>1</td>\n",
              "      <td>0</td>\n",
              "      <td>A/5 21171</td>\n",
              "      <td>7.2500</td>\n",
              "      <td>NaN</td>\n",
              "      <td>S</td>\n",
              "    </tr>\n",
              "    <tr>\n",
              "      <th>1</th>\n",
              "      <td>1</td>\n",
              "      <td>1</td>\n",
              "      <td>Cumings, Mrs. John Bradley (Florence Briggs Th...</td>\n",
              "      <td>female</td>\n",
              "      <td>38.0</td>\n",
              "      <td>1</td>\n",
              "      <td>0</td>\n",
              "      <td>PC 17599</td>\n",
              "      <td>71.2833</td>\n",
              "      <td>C85</td>\n",
              "      <td>C</td>\n",
              "    </tr>\n",
              "    <tr>\n",
              "      <th>2</th>\n",
              "      <td>1</td>\n",
              "      <td>3</td>\n",
              "      <td>Heikkinen, Miss. Laina</td>\n",
              "      <td>female</td>\n",
              "      <td>26.0</td>\n",
              "      <td>0</td>\n",
              "      <td>0</td>\n",
              "      <td>STON/O2. 3101282</td>\n",
              "      <td>7.9250</td>\n",
              "      <td>NaN</td>\n",
              "      <td>S</td>\n",
              "    </tr>\n",
              "    <tr>\n",
              "      <th>3</th>\n",
              "      <td>1</td>\n",
              "      <td>1</td>\n",
              "      <td>Futrelle, Mrs. Jacques Heath (Lily May Peel)</td>\n",
              "      <td>female</td>\n",
              "      <td>35.0</td>\n",
              "      <td>1</td>\n",
              "      <td>0</td>\n",
              "      <td>113803</td>\n",
              "      <td>53.1000</td>\n",
              "      <td>C123</td>\n",
              "      <td>S</td>\n",
              "    </tr>\n",
              "    <tr>\n",
              "      <th>4</th>\n",
              "      <td>0</td>\n",
              "      <td>3</td>\n",
              "      <td>Allen, Mr. William Henry</td>\n",
              "      <td>male</td>\n",
              "      <td>35.0</td>\n",
              "      <td>0</td>\n",
              "      <td>0</td>\n",
              "      <td>373450</td>\n",
              "      <td>8.0500</td>\n",
              "      <td>NaN</td>\n",
              "      <td>S</td>\n",
              "    </tr>\n",
              "  </tbody>\n",
              "</table>\n",
              "</div>"
            ],
            "text/plain": [
              "   survived  pclass                                               name  \\\n",
              "0         0       3                            Braund, Mr. Owen Harris   \n",
              "1         1       1  Cumings, Mrs. John Bradley (Florence Briggs Th...   \n",
              "2         1       3                             Heikkinen, Miss. Laina   \n",
              "3         1       1       Futrelle, Mrs. Jacques Heath (Lily May Peel)   \n",
              "4         0       3                           Allen, Mr. William Henry   \n",
              "\n",
              "      sex   age  sibsp  parch            ticket     fare cabin embarked  \n",
              "0    male  22.0      1      0         A/5 21171   7.2500   NaN        S  \n",
              "1  female  38.0      1      0          PC 17599  71.2833   C85        C  \n",
              "2  female  26.0      0      0  STON/O2. 3101282   7.9250   NaN        S  \n",
              "3  female  35.0      1      0            113803  53.1000  C123        S  \n",
              "4    male  35.0      0      0            373450   8.0500   NaN        S  "
            ]
          },
          "metadata": {
            "tags": []
          },
          "execution_count": 2
        }
      ]
    },
    {
      "cell_type": "markdown",
      "metadata": {
        "id": "uRK0mfbP6fEx"
      },
      "source": [
        "我們也可以用 <code>.tail()</code> 來輸出最後五個行。"
      ]
    },
    {
      "cell_type": "code",
      "metadata": {
        "colab": {
          "base_uri": "https://localhost:8080/",
          "height": 204
        },
        "id": "Cxh8NqsYepeT",
        "outputId": "628e3021-a3ee-4dab-cc78-0ab9da5ad966"
      },
      "source": [
        "df.tail()"
      ],
      "execution_count": null,
      "outputs": [
        {
          "output_type": "execute_result",
          "data": {
            "text/html": [
              "<div>\n",
              "<style scoped>\n",
              "    .dataframe tbody tr th:only-of-type {\n",
              "        vertical-align: middle;\n",
              "    }\n",
              "\n",
              "    .dataframe tbody tr th {\n",
              "        vertical-align: top;\n",
              "    }\n",
              "\n",
              "    .dataframe thead th {\n",
              "        text-align: right;\n",
              "    }\n",
              "</style>\n",
              "<table border=\"1\" class=\"dataframe\">\n",
              "  <thead>\n",
              "    <tr style=\"text-align: right;\">\n",
              "      <th></th>\n",
              "      <th>survived</th>\n",
              "      <th>pclass</th>\n",
              "      <th>name</th>\n",
              "      <th>sex</th>\n",
              "      <th>age</th>\n",
              "      <th>sibsp</th>\n",
              "      <th>parch</th>\n",
              "      <th>ticket</th>\n",
              "      <th>fare</th>\n",
              "      <th>cabin</th>\n",
              "      <th>embarked</th>\n",
              "    </tr>\n",
              "  </thead>\n",
              "  <tbody>\n",
              "    <tr>\n",
              "      <th>886</th>\n",
              "      <td>0</td>\n",
              "      <td>2</td>\n",
              "      <td>Montvila, Rev. Juozas</td>\n",
              "      <td>male</td>\n",
              "      <td>27.0</td>\n",
              "      <td>0</td>\n",
              "      <td>0</td>\n",
              "      <td>211536</td>\n",
              "      <td>13.00</td>\n",
              "      <td>NaN</td>\n",
              "      <td>S</td>\n",
              "    </tr>\n",
              "    <tr>\n",
              "      <th>887</th>\n",
              "      <td>1</td>\n",
              "      <td>1</td>\n",
              "      <td>Graham, Miss. Margaret Edith</td>\n",
              "      <td>female</td>\n",
              "      <td>19.0</td>\n",
              "      <td>0</td>\n",
              "      <td>0</td>\n",
              "      <td>112053</td>\n",
              "      <td>30.00</td>\n",
              "      <td>B42</td>\n",
              "      <td>S</td>\n",
              "    </tr>\n",
              "    <tr>\n",
              "      <th>888</th>\n",
              "      <td>0</td>\n",
              "      <td>3</td>\n",
              "      <td>Johnston, Miss. Catherine Helen \"Carrie\"</td>\n",
              "      <td>female</td>\n",
              "      <td>NaN</td>\n",
              "      <td>1</td>\n",
              "      <td>2</td>\n",
              "      <td>W./C. 6607</td>\n",
              "      <td>23.45</td>\n",
              "      <td>NaN</td>\n",
              "      <td>S</td>\n",
              "    </tr>\n",
              "    <tr>\n",
              "      <th>889</th>\n",
              "      <td>1</td>\n",
              "      <td>1</td>\n",
              "      <td>Behr, Mr. Karl Howell</td>\n",
              "      <td>male</td>\n",
              "      <td>26.0</td>\n",
              "      <td>0</td>\n",
              "      <td>0</td>\n",
              "      <td>111369</td>\n",
              "      <td>30.00</td>\n",
              "      <td>C148</td>\n",
              "      <td>C</td>\n",
              "    </tr>\n",
              "    <tr>\n",
              "      <th>890</th>\n",
              "      <td>0</td>\n",
              "      <td>3</td>\n",
              "      <td>Dooley, Mr. Patrick</td>\n",
              "      <td>male</td>\n",
              "      <td>32.0</td>\n",
              "      <td>0</td>\n",
              "      <td>0</td>\n",
              "      <td>370376</td>\n",
              "      <td>7.75</td>\n",
              "      <td>NaN</td>\n",
              "      <td>Q</td>\n",
              "    </tr>\n",
              "  </tbody>\n",
              "</table>\n",
              "</div>"
            ],
            "text/plain": [
              "     survived  pclass                                      name     sex   age  \\\n",
              "886         0       2                     Montvila, Rev. Juozas    male  27.0   \n",
              "887         1       1              Graham, Miss. Margaret Edith  female  19.0   \n",
              "888         0       3  Johnston, Miss. Catherine Helen \"Carrie\"  female   NaN   \n",
              "889         1       1                     Behr, Mr. Karl Howell    male  26.0   \n",
              "890         0       3                       Dooley, Mr. Patrick    male  32.0   \n",
              "\n",
              "     sibsp  parch      ticket   fare cabin embarked  \n",
              "886      0      0      211536  13.00   NaN        S  \n",
              "887      0      0      112053  30.00   B42        S  \n",
              "888      1      2  W./C. 6607  23.45   NaN        S  \n",
              "889      0      0      111369  30.00  C148        C  \n",
              "890      0      0      370376   7.75   NaN        Q  "
            ]
          },
          "metadata": {
            "tags": []
          },
          "execution_count": 3
        }
      ]
    },
    {
      "cell_type": "markdown",
      "metadata": {
        "id": "JEh7vSFa7ASw"
      },
      "source": [
        "如果你想隨意挑，可以用 <code>.sample()</code> 方法然後在參數裡填入行數。"
      ]
    },
    {
      "cell_type": "code",
      "metadata": {
        "colab": {
          "base_uri": "https://localhost:8080/",
          "height": 142
        },
        "id": "5-8-GLh7Dy7Z",
        "outputId": "68f725f8-4542-40f5-a078-35b8753075a3"
      },
      "source": [
        "df.sample(3)"
      ],
      "execution_count": null,
      "outputs": [
        {
          "output_type": "execute_result",
          "data": {
            "text/html": [
              "<div>\n",
              "<style scoped>\n",
              "    .dataframe tbody tr th:only-of-type {\n",
              "        vertical-align: middle;\n",
              "    }\n",
              "\n",
              "    .dataframe tbody tr th {\n",
              "        vertical-align: top;\n",
              "    }\n",
              "\n",
              "    .dataframe thead th {\n",
              "        text-align: right;\n",
              "    }\n",
              "</style>\n",
              "<table border=\"1\" class=\"dataframe\">\n",
              "  <thead>\n",
              "    <tr style=\"text-align: right;\">\n",
              "      <th></th>\n",
              "      <th>survived</th>\n",
              "      <th>pclass</th>\n",
              "      <th>name</th>\n",
              "      <th>sex</th>\n",
              "      <th>age</th>\n",
              "      <th>sibsp</th>\n",
              "      <th>parch</th>\n",
              "      <th>ticket</th>\n",
              "      <th>fare</th>\n",
              "      <th>cabin</th>\n",
              "      <th>embarked</th>\n",
              "    </tr>\n",
              "  </thead>\n",
              "  <tbody>\n",
              "    <tr>\n",
              "      <th>558</th>\n",
              "      <td>1</td>\n",
              "      <td>1</td>\n",
              "      <td>Taussig, Mrs. Emil (Tillie Mandelbaum)</td>\n",
              "      <td>female</td>\n",
              "      <td>39.0</td>\n",
              "      <td>1</td>\n",
              "      <td>1</td>\n",
              "      <td>110413</td>\n",
              "      <td>79.6500</td>\n",
              "      <td>E67</td>\n",
              "      <td>S</td>\n",
              "    </tr>\n",
              "    <tr>\n",
              "      <th>649</th>\n",
              "      <td>1</td>\n",
              "      <td>3</td>\n",
              "      <td>Stanley, Miss. Amy Zillah Elsie</td>\n",
              "      <td>female</td>\n",
              "      <td>23.0</td>\n",
              "      <td>0</td>\n",
              "      <td>0</td>\n",
              "      <td>CA. 2314</td>\n",
              "      <td>7.5500</td>\n",
              "      <td>NaN</td>\n",
              "      <td>S</td>\n",
              "    </tr>\n",
              "    <tr>\n",
              "      <th>847</th>\n",
              "      <td>0</td>\n",
              "      <td>3</td>\n",
              "      <td>Markoff, Mr. Marin</td>\n",
              "      <td>male</td>\n",
              "      <td>35.0</td>\n",
              "      <td>0</td>\n",
              "      <td>0</td>\n",
              "      <td>349213</td>\n",
              "      <td>7.8958</td>\n",
              "      <td>NaN</td>\n",
              "      <td>C</td>\n",
              "    </tr>\n",
              "  </tbody>\n",
              "</table>\n",
              "</div>"
            ],
            "text/plain": [
              "     survived  pclass                                    name     sex   age  \\\n",
              "558         1       1  Taussig, Mrs. Emil (Tillie Mandelbaum)  female  39.0   \n",
              "649         1       3         Stanley, Miss. Amy Zillah Elsie  female  23.0   \n",
              "847         0       3                      Markoff, Mr. Marin    male  35.0   \n",
              "\n",
              "     sibsp  parch    ticket     fare cabin embarked  \n",
              "558      1      1    110413  79.6500   E67        S  \n",
              "649      0      0  CA. 2314   7.5500   NaN        S  \n",
              "847      0      0    349213   7.8958   NaN        C  "
            ]
          },
          "metadata": {
            "tags": []
          },
          "execution_count": 4
        }
      ]
    },
    {
      "cell_type": "markdown",
      "metadata": {
        "id": "X0iXVj8J76h7"
      },
      "source": [
        " 接下來我們用 <code>.info()</code> 方法來列出所有 **列** 的資訊。"
      ]
    },
    {
      "cell_type": "markdown",
      "metadata": {
        "id": "CDUeKaJGDJ7G"
      },
      "source": [
        "## .info() "
      ]
    },
    {
      "cell_type": "code",
      "metadata": {
        "colab": {
          "base_uri": "https://localhost:8080/"
        },
        "id": "ChIKC_vGD88M",
        "outputId": "984e7cbe-016f-4ab8-d177-caca3c34bde1"
      },
      "source": [
        "df.info()"
      ],
      "execution_count": null,
      "outputs": [
        {
          "output_type": "stream",
          "text": [
            "<class 'pandas.core.frame.DataFrame'>\n",
            "RangeIndex: 891 entries, 0 to 890\n",
            "Data columns (total 11 columns):\n",
            " #   Column    Non-Null Count  Dtype  \n",
            "---  ------    --------------  -----  \n",
            " 0   survived  891 non-null    int64  \n",
            " 1   pclass    891 non-null    int64  \n",
            " 2   name      891 non-null    object \n",
            " 3   sex       891 non-null    object \n",
            " 4   age       714 non-null    float64\n",
            " 5   sibsp     891 non-null    int64  \n",
            " 6   parch     891 non-null    int64  \n",
            " 7   ticket    891 non-null    object \n",
            " 8   fare      891 non-null    float64\n",
            " 9   cabin     204 non-null    object \n",
            " 10  embarked  889 non-null    object \n",
            "dtypes: float64(2), int64(4), object(5)\n",
            "memory usage: 76.7+ KB\n"
          ],
          "name": "stdout"
        }
      ]
    },
    {
      "cell_type": "markdown",
      "metadata": {
        "id": "3nidJlkR7_0k"
      },
      "source": [
        "<code>.info()</code> 是一個非常重要的方法，幾乎在每個數據科學的專案都會看到。"
      ]
    },
    {
      "cell_type": "markdown",
      "metadata": {
        "id": "2FIzH36-9JWD"
      },
      "source": [
        "首先我們從 <code>RangeIndex: 891 entries</code> 看到有 891 行，<code>Data columns (total 11 columns)</code> 11 列。"
      ]
    },
    {
      "cell_type": "markdown",
      "metadata": {
        "id": "EtmxpwlRDJ7H"
      },
      "source": [
        "從 <code>Non-Null Count</code> 裡可以看出 <code>Age</code>、<code>Cabin</code> 和 <code>Embarked</code> 有遺失或存在不完整的數據。"
      ]
    },
    {
      "cell_type": "markdown",
      "metadata": {
        "id": "WkrUFDcSDJ7H"
      },
      "source": [
        "另外 <code>Dtype</code> 告訴我們總又有三種類型的資料："
      ]
    },
    {
      "cell_type": "markdown",
      "metadata": {
        "id": "cjlOMOHW9uZx"
      },
      "source": [
        "* int64: 整數\n",
        "* object: 物件（在這裡為非整數）\n",
        "* float64: 浮點數／小數"
      ]
    },
    {
      "cell_type": "markdown",
      "metadata": {
        "id": "FgDcqWLoDJ7H"
      },
      "source": [
        "為了確定 <code>df</code> 的行與列，我們可以用 <code>pandas</code> 的屬性 <code>.shape</code> 來輸出（<code>行</code>,<code>列</code>） "
      ]
    },
    {
      "cell_type": "code",
      "metadata": {
        "colab": {
          "base_uri": "https://localhost:8080/"
        },
        "id": "vC7mU1OAc-_W",
        "outputId": "8fa43f55-2396-4acd-ea0b-3f803681262f"
      },
      "source": [
        "df.shape"
      ],
      "execution_count": null,
      "outputs": [
        {
          "output_type": "execute_result",
          "data": {
            "text/plain": [
              "(891, 11)"
            ]
          },
          "metadata": {
            "tags": []
          },
          "execution_count": 6
        }
      ]
    },
    {
      "cell_type": "markdown",
      "metadata": {
        "id": "CM76VKnRDJ7I"
      },
      "source": [
        "## 行與列"
      ]
    },
    {
      "cell_type": "markdown",
      "metadata": {
        "id": "I8MfW76rDJ7I"
      },
      "source": [
        "我們可以使用 <code>index</code> 屬性來輸出索引訊息："
      ]
    },
    {
      "cell_type": "code",
      "metadata": {
        "colab": {
          "base_uri": "https://localhost:8080/"
        },
        "id": "DFyyt7OteLKj",
        "outputId": "0adf559b-d381-4929-ac96-437706df98c0"
      },
      "source": [
        "df.index"
      ],
      "execution_count": null,
      "outputs": [
        {
          "output_type": "execute_result",
          "data": {
            "text/plain": [
              "RangeIndex(start=0, stop=891, step=1)"
            ]
          },
          "metadata": {
            "tags": []
          },
          "execution_count": 7
        }
      ]
    },
    {
      "cell_type": "markdown",
      "metadata": {
        "id": "e-vLUphLDJ7I"
      },
      "source": [
        "從零開始 <code>start=0</code>，結束在 <code>891</code>（不包含 891），<code>step=1</code> 每次增加一所以總共有 891 行。"
      ]
    },
    {
      "cell_type": "markdown",
      "metadata": {
        "id": "0YyNFgMXDJ7J"
      },
      "source": [
        "接下來用 <code>.columns</code> 方法輸出所有列的標題："
      ]
    },
    {
      "cell_type": "code",
      "metadata": {
        "colab": {
          "base_uri": "https://localhost:8080/"
        },
        "id": "XtTMLYNCeIXA",
        "outputId": "e3a285d4-84f2-44ce-a9e4-3867d1af1e9f"
      },
      "source": [
        "df.columns"
      ],
      "execution_count": null,
      "outputs": [
        {
          "output_type": "execute_result",
          "data": {
            "text/plain": [
              "Index(['survived', 'pclass', 'name', 'sex', 'age', 'sibsp', 'parch', 'ticket',\n",
              "       'fare', 'cabin', 'embarked'],\n",
              "      dtype='object')"
            ]
          },
          "metadata": {
            "tags": []
          },
          "execution_count": 8
        }
      ]
    },
    {
      "cell_type": "markdown",
      "metadata": {
        "id": "PtSM43iQDJ7J"
      },
      "source": [
        "我們可以用 <code>.values</code> 方法來單獨輸出數值（沒有行與列）："
      ]
    },
    {
      "cell_type": "code",
      "metadata": {
        "colab": {
          "base_uri": "https://localhost:8080/"
        },
        "id": "OjJ2qKWleGRL",
        "outputId": "16965e6b-8e94-408a-d9c0-69b698bad451"
      },
      "source": [
        "df.values"
      ],
      "execution_count": null,
      "outputs": [
        {
          "output_type": "execute_result",
          "data": {
            "text/plain": [
              "array([[0, 3, 'Braund, Mr. Owen Harris', ..., 7.25, nan, 'S'],\n",
              "       [1, 1, 'Cumings, Mrs. John Bradley (Florence Briggs Thayer)', ...,\n",
              "        71.2833, 'C85', 'C'],\n",
              "       [1, 3, 'Heikkinen, Miss. Laina', ..., 7.925, nan, 'S'],\n",
              "       ...,\n",
              "       [0, 3, 'Johnston, Miss. Catherine Helen \"Carrie\"', ..., 23.45,\n",
              "        nan, 'S'],\n",
              "       [1, 1, 'Behr, Mr. Karl Howell', ..., 30.0, 'C148', 'C'],\n",
              "       [0, 3, 'Dooley, Mr. Patrick', ..., 7.75, nan, 'Q']], dtype=object)"
            ]
          },
          "metadata": {
            "tags": []
          },
          "execution_count": 9
        }
      ]
    },
    {
      "cell_type": "markdown",
      "metadata": {
        "id": "0fQBz5wUDJ7J"
      },
      "source": [
        "## 統計數據總結"
      ]
    },
    {
      "cell_type": "markdown",
      "metadata": {
        "id": "oy9nKlqfDJ7J"
      },
      "source": [
        "最後我們用 <code>.describe()</code> 來用統計學的角度了解 <code>df</code> 的數據分佈。"
      ]
    },
    {
      "cell_type": "code",
      "metadata": {
        "colab": {
          "base_uri": "https://localhost:8080/",
          "height": 297
        },
        "id": "onzRwWRxd0pF",
        "outputId": "20b71500-1d8a-4e26-d747-c53d91e821f4"
      },
      "source": [
        "df.describe()"
      ],
      "execution_count": null,
      "outputs": [
        {
          "output_type": "execute_result",
          "data": {
            "text/html": [
              "<div>\n",
              "<style scoped>\n",
              "    .dataframe tbody tr th:only-of-type {\n",
              "        vertical-align: middle;\n",
              "    }\n",
              "\n",
              "    .dataframe tbody tr th {\n",
              "        vertical-align: top;\n",
              "    }\n",
              "\n",
              "    .dataframe thead th {\n",
              "        text-align: right;\n",
              "    }\n",
              "</style>\n",
              "<table border=\"1\" class=\"dataframe\">\n",
              "  <thead>\n",
              "    <tr style=\"text-align: right;\">\n",
              "      <th></th>\n",
              "      <th>survived</th>\n",
              "      <th>pclass</th>\n",
              "      <th>age</th>\n",
              "      <th>sibsp</th>\n",
              "      <th>parch</th>\n",
              "      <th>fare</th>\n",
              "    </tr>\n",
              "  </thead>\n",
              "  <tbody>\n",
              "    <tr>\n",
              "      <th>count</th>\n",
              "      <td>891.000000</td>\n",
              "      <td>891.000000</td>\n",
              "      <td>714.000000</td>\n",
              "      <td>891.000000</td>\n",
              "      <td>891.000000</td>\n",
              "      <td>891.000000</td>\n",
              "    </tr>\n",
              "    <tr>\n",
              "      <th>mean</th>\n",
              "      <td>0.383838</td>\n",
              "      <td>2.308642</td>\n",
              "      <td>29.699118</td>\n",
              "      <td>0.523008</td>\n",
              "      <td>0.381594</td>\n",
              "      <td>32.204208</td>\n",
              "    </tr>\n",
              "    <tr>\n",
              "      <th>std</th>\n",
              "      <td>0.486592</td>\n",
              "      <td>0.836071</td>\n",
              "      <td>14.526497</td>\n",
              "      <td>1.102743</td>\n",
              "      <td>0.806057</td>\n",
              "      <td>49.693429</td>\n",
              "    </tr>\n",
              "    <tr>\n",
              "      <th>min</th>\n",
              "      <td>0.000000</td>\n",
              "      <td>1.000000</td>\n",
              "      <td>0.420000</td>\n",
              "      <td>0.000000</td>\n",
              "      <td>0.000000</td>\n",
              "      <td>0.000000</td>\n",
              "    </tr>\n",
              "    <tr>\n",
              "      <th>25%</th>\n",
              "      <td>0.000000</td>\n",
              "      <td>2.000000</td>\n",
              "      <td>20.125000</td>\n",
              "      <td>0.000000</td>\n",
              "      <td>0.000000</td>\n",
              "      <td>7.910400</td>\n",
              "    </tr>\n",
              "    <tr>\n",
              "      <th>50%</th>\n",
              "      <td>0.000000</td>\n",
              "      <td>3.000000</td>\n",
              "      <td>28.000000</td>\n",
              "      <td>0.000000</td>\n",
              "      <td>0.000000</td>\n",
              "      <td>14.454200</td>\n",
              "    </tr>\n",
              "    <tr>\n",
              "      <th>75%</th>\n",
              "      <td>1.000000</td>\n",
              "      <td>3.000000</td>\n",
              "      <td>38.000000</td>\n",
              "      <td>1.000000</td>\n",
              "      <td>0.000000</td>\n",
              "      <td>31.000000</td>\n",
              "    </tr>\n",
              "    <tr>\n",
              "      <th>max</th>\n",
              "      <td>1.000000</td>\n",
              "      <td>3.000000</td>\n",
              "      <td>80.000000</td>\n",
              "      <td>8.000000</td>\n",
              "      <td>6.000000</td>\n",
              "      <td>512.329200</td>\n",
              "    </tr>\n",
              "  </tbody>\n",
              "</table>\n",
              "</div>"
            ],
            "text/plain": [
              "         survived      pclass         age       sibsp       parch        fare\n",
              "count  891.000000  891.000000  714.000000  891.000000  891.000000  891.000000\n",
              "mean     0.383838    2.308642   29.699118    0.523008    0.381594   32.204208\n",
              "std      0.486592    0.836071   14.526497    1.102743    0.806057   49.693429\n",
              "min      0.000000    1.000000    0.420000    0.000000    0.000000    0.000000\n",
              "25%      0.000000    2.000000   20.125000    0.000000    0.000000    7.910400\n",
              "50%      0.000000    3.000000   28.000000    0.000000    0.000000   14.454200\n",
              "75%      1.000000    3.000000   38.000000    1.000000    0.000000   31.000000\n",
              "max      1.000000    3.000000   80.000000    8.000000    6.000000  512.329200"
            ]
          },
          "metadata": {
            "tags": []
          },
          "execution_count": 10
        }
      ]
    },
    {
      "cell_type": "markdown",
      "metadata": {
        "id": "fOV_3b6DDJ7K"
      },
      "source": [
        "左邊索引分別代表的意義是："
      ]
    },
    {
      "cell_type": "markdown",
      "metadata": {
        "id": "Y3736FpLDJ7K"
      },
      "source": [
        "* count: 所有有效數值的總數\n",
        "* mean: 平均值\n",
        "* std: 標準差(Standard Deviation)數據的離散程度，越小越集中\n",
        "* min: 最小數值\n",
        "* 25%: 後25%中最大的數值\n",
        "* 50%: 後50%中最大的數值\n",
        "* 75%: 後75%中最大的數值\n",
        "* max: 最大數值"
      ]
    },
    {
      "cell_type": "markdown",
      "metadata": {
        "id": "UisJBlpYDJ7K"
      },
      "source": [
        "所們我們從表中得知："
      ]
    },
    {
      "cell_type": "markdown",
      "metadata": {
        "id": "3HsKOojUDJ7K"
      },
      "source": [
        "* 大約 38% 的人存活 <code>survived</code> <code>mean</code> = 0.383838\n",
        "* 超過一半的人都住在三等艙 <code>pclass</code> <code>50%</code>=3\n",
        "* 約 99.7% 的人年齡在 0.6 到 59 之間 <code>age</code> <code>std</code>: 29.69&pm;(2*14.52)\n",
        "* 超過一半的人沒有兄弟姊妹 <code>sibsp</code> <code>50%</code>=0 \n",
        "* 超過 75% 的人沒有跟爸媽或小孩 <code>parch</code> <code>75%</code>=0 \n",
        "* 小於 1% 的人付超過 $512 的船票 <code>fare</code> <code>std</code>: 32.2+(2*49.69)"
      ]
    },
    {
      "cell_type": "markdown",
      "metadata": {
        "id": "wZhgXhUSDJ7K"
      },
      "source": [
        "<code>.describe()</code> 會依照數據種類（文字或數字）顯示不同資訊。如下，我們用 <code>include=['O']</code> 參數來顯示非數字物件的資訊："
      ]
    },
    {
      "cell_type": "code",
      "metadata": {
        "id": "lHb20aEcDJ7L",
        "outputId": "60c3ec12-e8b2-4a5e-8c65-7a557a32150e"
      },
      "source": [
        "df.describe(include=['O'])"
      ],
      "execution_count": null,
      "outputs": [
        {
          "output_type": "execute_result",
          "data": {
            "text/html": [
              "<div>\n",
              "<style scoped>\n",
              "    .dataframe tbody tr th:only-of-type {\n",
              "        vertical-align: middle;\n",
              "    }\n",
              "\n",
              "    .dataframe tbody tr th {\n",
              "        vertical-align: top;\n",
              "    }\n",
              "\n",
              "    .dataframe thead th {\n",
              "        text-align: right;\n",
              "    }\n",
              "</style>\n",
              "<table border=\"1\" class=\"dataframe\">\n",
              "  <thead>\n",
              "    <tr style=\"text-align: right;\">\n",
              "      <th></th>\n",
              "      <th>name</th>\n",
              "      <th>sex</th>\n",
              "      <th>ticket</th>\n",
              "      <th>cabin</th>\n",
              "      <th>embarked</th>\n",
              "    </tr>\n",
              "  </thead>\n",
              "  <tbody>\n",
              "    <tr>\n",
              "      <th>count</th>\n",
              "      <td>891</td>\n",
              "      <td>891</td>\n",
              "      <td>891</td>\n",
              "      <td>204</td>\n",
              "      <td>889</td>\n",
              "    </tr>\n",
              "    <tr>\n",
              "      <th>unique</th>\n",
              "      <td>891</td>\n",
              "      <td>2</td>\n",
              "      <td>681</td>\n",
              "      <td>147</td>\n",
              "      <td>3</td>\n",
              "    </tr>\n",
              "    <tr>\n",
              "      <th>top</th>\n",
              "      <td>Mineff, Mr. Ivan</td>\n",
              "      <td>male</td>\n",
              "      <td>1601</td>\n",
              "      <td>B96 B98</td>\n",
              "      <td>S</td>\n",
              "    </tr>\n",
              "    <tr>\n",
              "      <th>freq</th>\n",
              "      <td>1</td>\n",
              "      <td>577</td>\n",
              "      <td>7</td>\n",
              "      <td>4</td>\n",
              "      <td>644</td>\n",
              "    </tr>\n",
              "  </tbody>\n",
              "</table>\n",
              "</div>"
            ],
            "text/plain": [
              "                    name   sex ticket    cabin embarked\n",
              "count                891   891    891      204      889\n",
              "unique               891     2    681      147        3\n",
              "top     Mineff, Mr. Ivan  male   1601  B96 B98        S\n",
              "freq                   1   577      7        4      644"
            ]
          },
          "metadata": {
            "tags": []
          },
          "execution_count": 11
        }
      ]
    },
    {
      "cell_type": "markdown",
      "metadata": {
        "id": "2ItlTnriDJ7L"
      },
      "source": [
        "* count: 所有有效數值的總數\n",
        "* unique: 有幾個不同的值\n",
        "* top: 哪個值出現最多次\n",
        "* freq: 出現最多次數的頻率"
      ]
    },
    {
      "cell_type": "markdown",
      "metadata": {
        "id": "9haZZhRBDJ7L"
      },
      "source": [
        "所們我們從表中得知："
      ]
    },
    {
      "cell_type": "markdown",
      "metadata": {
        "id": "li3b0FlDDJ7L"
      },
      "source": [
        "* 男生約佔總人數 64% <code>Sex</code> <code>freq</code>/<code>count</code>=0.6475 \n",
        "* 有 <code>681</code> 種票價\n",
        "* 有 <code>147</code> 種艙位\n",
        "* 有 <code>3</code> 種港口，<code>S</code> 是最多人上船的港口，共有 <code>644</code> 人次。"
      ]
    },
    {
      "cell_type": "markdown",
      "metadata": {
        "id": "3g1a7FJnDJ7L"
      },
      "source": [
        "我們透過 <code>unique</code> 知道有幾個不同的值，但到底是什麼，我們可以用 <code>.unique()</code> 方法顯示："
      ]
    },
    {
      "cell_type": "code",
      "metadata": {
        "id": "Eq_5klCXDJ7L",
        "scrolled": true,
        "outputId": "3a389831-bebe-4420-8a81-d59ed393b6ea"
      },
      "source": [
        "df['cabin'].unique()"
      ],
      "execution_count": null,
      "outputs": [
        {
          "output_type": "execute_result",
          "data": {
            "text/plain": [
              "array([nan, 'C85', 'C123', 'E46', 'G6', 'C103', 'D56', 'A6',\n",
              "       'C23 C25 C27', 'B78', 'D33', 'B30', 'C52', 'B28', 'C83', 'F33',\n",
              "       'F G73', 'E31', 'A5', 'D10 D12', 'D26', 'C110', 'B58 B60', 'E101',\n",
              "       'F E69', 'D47', 'B86', 'F2', 'C2', 'E33', 'B19', 'A7', 'C49', 'F4',\n",
              "       'A32', 'B4', 'B80', 'A31', 'D36', 'D15', 'C93', 'C78', 'D35',\n",
              "       'C87', 'B77', 'E67', 'B94', 'C125', 'C99', 'C118', 'D7', 'A19',\n",
              "       'B49', 'D', 'C22 C26', 'C106', 'C65', 'E36', 'C54',\n",
              "       'B57 B59 B63 B66', 'C7', 'E34', 'C32', 'B18', 'C124', 'C91', 'E40',\n",
              "       'T', 'C128', 'D37', 'B35', 'E50', 'C82', 'B96 B98', 'E10', 'E44',\n",
              "       'A34', 'C104', 'C111', 'C92', 'E38', 'D21', 'E12', 'E63', 'A14',\n",
              "       'B37', 'C30', 'D20', 'B79', 'E25', 'D46', 'B73', 'C95', 'B38',\n",
              "       'B39', 'B22', 'C86', 'C70', 'A16', 'C101', 'C68', 'A10', 'E68',\n",
              "       'B41', 'A20', 'D19', 'D50', 'D9', 'A23', 'B50', 'A26', 'D48',\n",
              "       'E58', 'C126', 'B71', 'B51 B53 B55', 'D49', 'B5', 'B20', 'F G63',\n",
              "       'C62 C64', 'E24', 'C90', 'C45', 'E8', 'B101', 'D45', 'C46', 'D30',\n",
              "       'E121', 'D11', 'E77', 'F38', 'B3', 'D6', 'B82 B84', 'D17', 'A36',\n",
              "       'B102', 'B69', 'E49', 'C47', 'D28', 'E17', 'A24', 'C50', 'B42',\n",
              "       'C148'], dtype=object)"
            ]
          },
          "metadata": {
            "tags": []
          },
          "execution_count": 12
        }
      ]
    },
    {
      "cell_type": "markdown",
      "metadata": {
        "id": "iz7qxnyvDJ7M"
      },
      "source": [
        "所以 <code>Carbin</code> 裡有很多不同艙位。你可以用這個方法來查看其他列的內容。"
      ]
    },
    {
      "cell_type": "code",
      "metadata": {
        "id": "OilB10tGDJ7M",
        "outputId": "d92ea64e-e255-46fe-d83b-f44393f7cbcb"
      },
      "source": [
        "df['embarked'].unique()"
      ],
      "execution_count": null,
      "outputs": [
        {
          "output_type": "execute_result",
          "data": {
            "text/plain": [
              "array(['S', 'C', 'Q', nan], dtype=object)"
            ]
          },
          "metadata": {
            "tags": []
          },
          "execution_count": 13
        }
      ]
    },
    {
      "cell_type": "markdown",
      "metadata": {
        "id": "uV4n0-CCDJ7M"
      },
      "source": [
        "我們大致瞭解了輸入數據的樣貌，接下來學習如何調整與排序數據。"
      ]
    },
    {
      "cell_type": "markdown",
      "metadata": {
        "id": "SCwe6yDODJ7M"
      },
      "source": [
        "<small>v1.1</small>"
      ]
    }
  ]
}